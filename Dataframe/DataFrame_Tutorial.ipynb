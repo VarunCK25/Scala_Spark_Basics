{
 "cells": [
  {
   "cell_type": "markdown",
   "metadata": {},
   "source": [
    "### Imports"
   ]
  },
  {
   "cell_type": "code",
   "execution_count": 1,
   "metadata": {},
   "outputs": [
    {
     "data": {
      "text/plain": [
       "import org.apache.spark.sql.SparkSession\n"
      ]
     },
     "execution_count": 1,
     "metadata": {},
     "output_type": "execute_result"
    }
   ],
   "source": [
    "import org.apache.spark.sql.SparkSession"
   ]
  },
  {
   "cell_type": "markdown",
   "metadata": {},
   "source": [
    "### Creating Spark Session"
   ]
  },
  {
   "cell_type": "code",
   "execution_count": 2,
   "metadata": {},
   "outputs": [
    {
     "name": "stdout",
     "output_type": "stream",
     "text": [
      "2020-01-19 15:53:44 WARN  SparkContext:66 - Using an existing SparkContext; some configuration may not take effect.\r\n"
     ]
    },
    {
     "data": {
      "text/plain": [
       "spark: org.apache.spark.sql.SparkSession = org.apache.spark.sql.SparkSession@453acf51\n"
      ]
     },
     "execution_count": 2,
     "metadata": {},
     "output_type": "execute_result"
    }
   ],
   "source": [
    "val spark = SparkSession.builder().getOrCreate()"
   ]
  },
  {
   "cell_type": "markdown",
   "metadata": {},
   "source": [
    "### Create a DataFrame from reading a CSV file"
   ]
  },
  {
   "cell_type": "code",
   "execution_count": 3,
   "metadata": {},
   "outputs": [
    {
     "data": {
      "text/plain": [
       "dfTags: org.apache.spark.sql.DataFrame = [Id: int, Tag: string]\n"
      ]
     },
     "execution_count": 3,
     "metadata": {},
     "output_type": "execute_result"
    }
   ],
   "source": [
    "val dfTags = spark.read.option(\"header\", \"true\").option(\"inferSchema\", \"true\").csv(\"..\\\\Resources\\\\question_tags_10K.csv\")"
   ]
  },
  {
   "cell_type": "markdown",
   "metadata": {},
   "source": [
    "### Show"
   ]
  },
  {
   "cell_type": "code",
   "execution_count": 4,
   "metadata": {},
   "outputs": [
    {
     "name": "stdout",
     "output_type": "stream",
     "text": [
      "+---+---------------+\n",
      "| Id|            Tag|\n",
      "+---+---------------+\n",
      "|  1|           data|\n",
      "|  4|             c#|\n",
      "|  4|       winforms|\n",
      "|  4|type-conversion|\n",
      "|  4|        decimal|\n",
      "+---+---------------+\n",
      "only showing top 5 rows\n",
      "\n"
     ]
    }
   ],
   "source": [
    "dfTags.show(5)"
   ]
  },
  {
   "cell_type": "markdown",
   "metadata": {},
   "source": [
    "### Print DataFrame schema"
   ]
  },
  {
   "cell_type": "code",
   "execution_count": 5,
   "metadata": {},
   "outputs": [
    {
     "name": "stdout",
     "output_type": "stream",
     "text": [
      "root\n",
      " |-- Id: integer (nullable = true)\n",
      " |-- Tag: string (nullable = true)\n",
      "\n"
     ]
    }
   ],
   "source": [
    "dfTags.printSchema"
   ]
  },
  {
   "cell_type": "markdown",
   "metadata": {},
   "source": [
    "### Query dataframe: select columns from a dataframe"
   ]
  },
  {
   "cell_type": "code",
   "execution_count": 6,
   "metadata": {},
   "outputs": [
    {
     "name": "stdout",
     "output_type": "stream",
     "text": [
      "+---+---------------+\n",
      "| id|            tag|\n",
      "+---+---------------+\n",
      "|  1|           data|\n",
      "|  4|             c#|\n",
      "|  4|       winforms|\n",
      "|  4|type-conversion|\n",
      "|  4|        decimal|\n",
      "+---+---------------+\n",
      "only showing top 5 rows\n",
      "\n"
     ]
    }
   ],
   "source": [
    "dfTags.select($\"id\",$\"tag\").show(5)"
   ]
  },
  {
   "cell_type": "markdown",
   "metadata": {},
   "source": [
    "### DataFrame Query: filter by column value of a dataframe"
   ]
  },
  {
   "cell_type": "code",
   "execution_count": 7,
   "metadata": {},
   "outputs": [
    {
     "name": "stdout",
     "output_type": "stream",
     "text": [
      "+---+---+\n",
      "| Id|Tag|\n",
      "+---+---+\n",
      "| 23|php|\n",
      "| 42|php|\n",
      "| 85|php|\n",
      "|126|php|\n",
      "|146|php|\n",
      "+---+---+\n",
      "only showing top 5 rows\n",
      "\n"
     ]
    }
   ],
   "source": [
    "// SQL Syntax\n",
    "dfTags.filter(\"tag == 'php'\").show(5)"
   ]
  },
  {
   "cell_type": "markdown",
   "metadata": {},
   "source": [
    "Or"
   ]
  },
  {
   "cell_type": "code",
   "execution_count": 8,
   "metadata": {},
   "outputs": [
    {
     "name": "stdout",
     "output_type": "stream",
     "text": [
      "+---+---+\n",
      "| Id|Tag|\n",
      "+---+---+\n",
      "| 23|php|\n",
      "| 42|php|\n",
      "| 85|php|\n",
      "|126|php|\n",
      "|146|php|\n",
      "+---+---+\n",
      "only showing top 5 rows\n",
      "\n"
     ]
    }
   ],
   "source": [
    "// Scala Syntax\n",
    "dfTags.filter($\"tag\" === \"php\").show(5)"
   ]
  },
  {
   "cell_type": "markdown",
   "metadata": {},
   "source": [
    "### DataFrame Query: count rows of a dataframe"
   ]
  },
  {
   "cell_type": "code",
   "execution_count": 9,
   "metadata": {},
   "outputs": [
    {
     "name": "stdout",
     "output_type": "stream",
     "text": [
      "Number of php tags = 133\n"
     ]
    }
   ],
   "source": [
    "println(s\"Number of php tags = ${dfTags.filter(\"tag == 'php'\").count()}\")"
   ]
  },
  {
   "cell_type": "markdown",
   "metadata": {},
   "source": [
    "### DataFrame Query: SQL like query"
   ]
  },
  {
   "cell_type": "code",
   "execution_count": 10,
   "metadata": {},
   "outputs": [
    {
     "name": "stdout",
     "output_type": "stream",
     "text": [
      "+---+-------------+\n",
      "| Id|          Tag|\n",
      "+---+-------------+\n",
      "| 25|      sockets|\n",
      "| 36|          sql|\n",
      "| 36|   sql-server|\n",
      "| 40| structuremap|\n",
      "| 48|submit-button|\n",
      "+---+-------------+\n",
      "only showing top 5 rows\n",
      "\n"
     ]
    }
   ],
   "source": [
    "dfTags.filter(\"tag like 's%'\").show(5)"
   ]
  },
  {
   "cell_type": "markdown",
   "metadata": {},
   "source": [
    "### DataFrame Query: Multiple filter chaining"
   ]
  },
  {
   "cell_type": "code",
   "execution_count": 11,
   "metadata": {},
   "outputs": [
    {
     "name": "stdout",
     "output_type": "stream",
     "text": [
      "+---+-------+\n",
      "| Id|    Tag|\n",
      "+---+-------+\n",
      "| 25|sockets|\n",
      "|108|    svn|\n",
      "+---+-------+\n",
      "\n"
     ]
    }
   ],
   "source": [
    "dfTags.filter(\"tag like 's%'\")\n",
    "      .filter(\"id == 25 or id == 108\")\n",
    "      .show(5)"
   ]
  },
  {
   "cell_type": "markdown",
   "metadata": {},
   "source": [
    "### DataFrame Query: SQL IN clause"
   ]
  },
  {
   "cell_type": "code",
   "execution_count": 12,
   "metadata": {},
   "outputs": [
    {
     "name": "stdout",
     "output_type": "stream",
     "text": [
      "+---+---------+\n",
      "| Id|      Tag|\n",
      "+---+---------+\n",
      "| 25|      c++|\n",
      "| 25|        c|\n",
      "| 25|  sockets|\n",
      "| 25|mainframe|\n",
      "| 25|      zos|\n",
      "+---+---------+\n",
      "only showing top 5 rows\n",
      "\n"
     ]
    }
   ],
   "source": [
    "dfTags.filter(\"id in (25,108)\").show(5)"
   ]
  },
  {
   "cell_type": "markdown",
   "metadata": {},
   "source": [
    "### DataFrame Query: SQL Group By"
   ]
  },
  {
   "cell_type": "code",
   "execution_count": 14,
   "metadata": {},
   "outputs": [
    {
     "name": "stdout",
     "output_type": "stream",
     "text": [
      "+-----------+-----+\n",
      "|        tag|count|\n",
      "+-----------+-----+\n",
      "|type-safety|    4|\n",
      "|    jbutton|    1|\n",
      "|     iframe|    2|\n",
      "|  svn-hooks|    2|\n",
      "|  standards|    7|\n",
      "+-----------+-----+\n",
      "only showing top 5 rows\n",
      "\n"
     ]
    }
   ],
   "source": [
    "dfTags.groupBy(\"tag\").count().show(5)"
   ]
  },
  {
   "cell_type": "markdown",
   "metadata": {},
   "source": [
    "### DataFrame Query: SQL Group By with filter"
   ]
  },
  {
   "cell_type": "code",
   "execution_count": 17,
   "metadata": {},
   "outputs": [
    {
     "name": "stdout",
     "output_type": "stream",
     "text": [
      "+-------------+-----+\n",
      "|          tag|count|\n",
      "+-------------+-----+\n",
      "|    standards|    7|\n",
      "|     keyboard|    8|\n",
      "|          rss|   12|\n",
      "|documentation|   15|\n",
      "|      session|    6|\n",
      "+-------------+-----+\n",
      "only showing top 5 rows\n",
      "\n"
     ]
    }
   ],
   "source": [
    "dfTags.groupBy(\"tag\").count().filter(\"count > 5\").show(5)"
   ]
  },
  {
   "cell_type": "markdown",
   "metadata": {},
   "source": [
    "### DataFrame Query: SQL order by (Ascending)"
   ]
  },
  {
   "cell_type": "code",
   "execution_count": 18,
   "metadata": {},
   "outputs": [
    {
     "name": "stdout",
     "output_type": "stream",
     "text": [
      "+--------------+-----+\n",
      "|           tag|count|\n",
      "+--------------+-----+\n",
      "|          .net|  351|\n",
      "|      .net-2.0|   14|\n",
      "|      .net-3.5|   30|\n",
      "|         64bit|    7|\n",
      "|actionscript-3|   22|\n",
      "+--------------+-----+\n",
      "only showing top 5 rows\n",
      "\n"
     ]
    }
   ],
   "source": [
    "dfTags.groupBy(\"tag\").count().filter(\"count > 5\").orderBy(\"tag\").show(5)"
   ]
  },
  {
   "cell_type": "markdown",
   "metadata": {},
   "source": [
    "### DataFrame Query: SQL order by (Descending)"
   ]
  },
  {
   "cell_type": "code",
   "execution_count": 19,
   "metadata": {},
   "outputs": [
    {
     "data": {
      "text/plain": [
       "import org.apache.spark.sql.functions\n"
      ]
     },
     "execution_count": 19,
     "metadata": {},
     "output_type": "execute_result"
    }
   ],
   "source": [
    "import org.apache.spark.sql.functions"
   ]
  },
  {
   "cell_type": "code",
   "execution_count": 22,
   "metadata": {},
   "outputs": [
    {
     "name": "stdout",
     "output_type": "stream",
     "text": [
      "+-----+-----+\n",
      "|  tag|count|\n",
      "+-----+-----+\n",
      "|  xss|    6|\n",
      "| xslt|    7|\n",
      "|  xml|   52|\n",
      "|xhtml|    8|\n",
      "|  wpf|   23|\n",
      "+-----+-----+\n",
      "only showing top 5 rows\n",
      "\n"
     ]
    }
   ],
   "source": [
    "dfTags.groupBy(\"tag\").count().filter(\"count > 5\").orderBy(dfTags(\"tag\").desc).show(5)"
   ]
  },
  {
   "cell_type": "markdown",
   "metadata": {},
   "source": [
    "### DataFrame Query: Cast columns to specific data type"
   ]
  },
  {
   "cell_type": "code",
   "execution_count": 24,
   "metadata": {},
   "outputs": [
    {
     "data": {
      "text/plain": [
       "dfQuestionsCSV: org.apache.spark.sql.DataFrame = [Id: int, CreationDate: timestamp ... 5 more fields]\n"
      ]
     },
     "execution_count": 24,
     "metadata": {},
     "output_type": "execute_result"
    }
   ],
   "source": [
    "val dfQuestionsCSV = spark.read\n",
    "                          .option(\"header\",\"true\")\n",
    "                          .option(\"inferSchema\", \"true\")\n",
    "                          .option(\"dateFormat\",\"yyyy-MM-dd HH:mm:ss\")\n",
    "                          .csv(\"..\\\\Resources\\\\questions_10K.csv\")"
   ]
  },
  {
   "cell_type": "code",
   "execution_count": 25,
   "metadata": {},
   "outputs": [
    {
     "name": "stdout",
     "output_type": "stream",
     "text": [
      "+---+-------------------+----------+--------------------+-----+-----------+-----------+\n",
      "| Id|       CreationDate|ClosedDate|        DeletionDate|Score|OwnerUserId|AnswerCount|\n",
      "+---+-------------------+----------+--------------------+-----+-----------+-----------+\n",
      "|  1|2008-08-01 02:56:37|        NA|2011-03-28T00:53:47Z|    1|         NA|          0|\n",
      "|  4|2008-08-01 03:12:52|        NA|                  NA|  472|          8|         13|\n",
      "|  6|2008-08-01 03:38:08|        NA|                  NA|  210|          9|          5|\n",
      "+---+-------------------+----------+--------------------+-----+-----------+-----------+\n",
      "only showing top 3 rows\n",
      "\n"
     ]
    }
   ],
   "source": [
    "dfQuestionsCSV.show(3)"
   ]
  },
  {
   "cell_type": "markdown",
   "metadata": {},
   "source": [
    "### DataFrame creation by giving input column names"
   ]
  },
  {
   "cell_type": "code",
   "execution_count": 26,
   "metadata": {},
   "outputs": [
    {
     "data": {
      "text/plain": [
       "dfQuestionsCSV: org.apache.spark.sql.DataFrame = [id: int, creation_date: timestamp ... 5 more fields]\n"
      ]
     },
     "execution_count": 26,
     "metadata": {},
     "output_type": "execute_result"
    }
   ],
   "source": [
    "val dfQuestionsCSV = spark.read\n",
    "                          .option(\"header\",\"true\")\n",
    "                          .option(\"inferSchema\", \"true\")\n",
    "                          .option(\"dateFormat\",\"yyyy-MM-dd HH:mm:ss\")\n",
    "                          .csv(\"..\\\\Resources\\\\questions_10K.csv\")\n",
    "                          .toDF(\"id\", \"creation_date\", \"closed_date\", \"deletion_date\", \"score\", \"owner_userid\", \"answer_count\")"
   ]
  },
  {
   "cell_type": "code",
   "execution_count": 27,
   "metadata": {
    "scrolled": true
   },
   "outputs": [
    {
     "name": "stdout",
     "output_type": "stream",
     "text": [
      "+---+-------------------+-----------+--------------------+-----+------------+------------+\n",
      "| id|      creation_date|closed_date|       deletion_date|score|owner_userid|answer_count|\n",
      "+---+-------------------+-----------+--------------------+-----+------------+------------+\n",
      "|  1|2008-08-01 02:56:37|         NA|2011-03-28T00:53:47Z|    1|          NA|           0|\n",
      "|  4|2008-08-01 03:12:52|         NA|                  NA|  472|           8|          13|\n",
      "|  6|2008-08-01 03:38:08|         NA|                  NA|  210|           9|           5|\n",
      "+---+-------------------+-----------+--------------------+-----+------------+------------+\n",
      "only showing top 3 rows\n",
      "\n"
     ]
    }
   ],
   "source": [
    "dfQuestionsCSV.show(3)"
   ]
  },
  {
   "cell_type": "markdown",
   "metadata": {},
   "source": [
    "### Checking Existing Schema"
   ]
  },
  {
   "cell_type": "code",
   "execution_count": 28,
   "metadata": {},
   "outputs": [
    {
     "name": "stdout",
     "output_type": "stream",
     "text": [
      "root\n",
      " |-- id: integer (nullable = true)\n",
      " |-- creation_date: timestamp (nullable = true)\n",
      " |-- closed_date: string (nullable = true)\n",
      " |-- deletion_date: string (nullable = true)\n",
      " |-- score: integer (nullable = true)\n",
      " |-- owner_userid: string (nullable = true)\n",
      " |-- answer_count: string (nullable = true)\n",
      "\n"
     ]
    }
   ],
   "source": [
    "dfQuestionsCSV.printSchema"
   ]
  },
  {
   "cell_type": "markdown",
   "metadata": {},
   "source": [
    "### Casting"
   ]
  },
  {
   "cell_type": "code",
   "execution_count": 29,
   "metadata": {},
   "outputs": [
    {
     "data": {
      "text/plain": [
       "dfQuestions: org.apache.spark.sql.DataFrame = [id: int, creation_date: timestamp ... 5 more fields]\n"
      ]
     },
     "execution_count": 29,
     "metadata": {},
     "output_type": "execute_result"
    }
   ],
   "source": [
    "val dfQuestions = dfQuestionsCSV.select( dfQuestionsCSV.col(\"id\").cast(\"integer\"),\n",
    "                                     dfQuestionsCSV.col(\"creation_date\").cast(\"timestamp\"),\n",
    "                                     dfQuestionsCSV.col(\"closed_date\").cast(\"timestamp\"),\n",
    "                                     dfQuestionsCSV.col(\"deletion_date\").cast(\"date\"),\n",
    "                                     dfQuestionsCSV.col(\"score\").cast(\"integer\"),\n",
    "                                     dfQuestionsCSV.col(\"owner_userid\").cast(\"integer\"),\n",
    "                                     dfQuestionsCSV.col(\"answer_count\").cast(\"integer\")\n",
    "                                    )"
   ]
  },
  {
   "cell_type": "code",
   "execution_count": 30,
   "metadata": {
    "scrolled": true
   },
   "outputs": [
    {
     "name": "stdout",
     "output_type": "stream",
     "text": [
      "+---+-------------------+-----------+-------------+-----+------------+------------+\n",
      "| id|      creation_date|closed_date|deletion_date|score|owner_userid|answer_count|\n",
      "+---+-------------------+-----------+-------------+-----+------------+------------+\n",
      "|  1|2008-08-01 02:56:37|       null|   2011-03-28|    1|        null|           0|\n",
      "|  4|2008-08-01 03:12:52|       null|         null|  472|           8|          13|\n",
      "|  6|2008-08-01 03:38:08|       null|         null|  210|           9|           5|\n",
      "+---+-------------------+-----------+-------------+-----+------------+------------+\n",
      "only showing top 3 rows\n",
      "\n"
     ]
    }
   ],
   "source": [
    "dfQuestions.show(3)"
   ]
  },
  {
   "cell_type": "markdown",
   "metadata": {},
   "source": [
    "### Checking new schema"
   ]
  },
  {
   "cell_type": "code",
   "execution_count": 31,
   "metadata": {},
   "outputs": [
    {
     "name": "stdout",
     "output_type": "stream",
     "text": [
      "root\n",
      " |-- id: integer (nullable = true)\n",
      " |-- creation_date: timestamp (nullable = true)\n",
      " |-- closed_date: timestamp (nullable = true)\n",
      " |-- deletion_date: date (nullable = true)\n",
      " |-- score: integer (nullable = true)\n",
      " |-- owner_userid: integer (nullable = true)\n",
      " |-- answer_count: integer (nullable = true)\n",
      "\n"
     ]
    }
   ],
   "source": [
    "dfQuestions.printSchema"
   ]
  },
  {
   "cell_type": "markdown",
   "metadata": {},
   "source": [
    "### DataFrame Query: Operate on a sliced dataframe"
   ]
  },
  {
   "cell_type": "code",
   "execution_count": 34,
   "metadata": {},
   "outputs": [
    {
     "data": {
      "text/plain": [
       "dfQuestionsSubset: org.apache.spark.sql.DataFrame = [id: int, creation_date: timestamp ... 5 more fields]\n"
      ]
     },
     "execution_count": 34,
     "metadata": {},
     "output_type": "execute_result"
    }
   ],
   "source": [
    "val dfQuestionsSubset = dfQuestions.filter(\"score > 400 and score < 410\").toDF()"
   ]
  },
  {
   "cell_type": "code",
   "execution_count": 35,
   "metadata": {},
   "outputs": [
    {
     "name": "stdout",
     "output_type": "stream",
     "text": [
      "+----+-------------------+-------------------+-------------+-----+------------+------------+\n",
      "|  id|      creation_date|        closed_date|deletion_date|score|owner_userid|answer_count|\n",
      "+----+-------------------+-------------------+-------------+-----+------------+------------+\n",
      "| 888|2008-08-04 04:48:21|2016-08-04 14:52:00|         null|  405|         131|          30|\n",
      "|1939|2008-08-05 11:09:36|2012-06-05 18:43:38|   2012-12-18|  408|        null|          48|\n",
      "|3881|2008-08-07 00:56:30|2016-09-23 19:04:31|         null|  402|         122|          27|\n",
      "+----+-------------------+-------------------+-------------+-----+------------+------------+\n",
      "only showing top 3 rows\n",
      "\n"
     ]
    }
   ],
   "source": [
    "dfQuestionsSubset.show(3)"
   ]
  },
  {
   "cell_type": "markdown",
   "metadata": {},
   "source": [
    "### DataFrame Query: Join"
   ]
  },
  {
   "cell_type": "code",
   "execution_count": 36,
   "metadata": {},
   "outputs": [
    {
     "name": "stdout",
     "output_type": "stream",
     "text": [
      "+---+-------------------+-------------------+-------------+-----+------------+------------+---------+\n",
      "| id|      creation_date|        closed_date|deletion_date|score|owner_userid|answer_count|      Tag|\n",
      "+---+-------------------+-------------------+-------------+-----+------------+------------+---------+\n",
      "|888|2008-08-04 04:48:21|2016-08-04 14:52:00|         null|  405|         131|          30|   xdebug|\n",
      "|888|2008-08-04 04:48:21|2016-08-04 14:52:00|         null|  405|         131|          30| phpstorm|\n",
      "|888|2008-08-04 04:48:21|2016-08-04 14:52:00|         null|  405|         131|          30|debugging|\n",
      "|888|2008-08-04 04:48:21|2016-08-04 14:52:00|         null|  405|         131|          30|  eclipse|\n",
      "|888|2008-08-04 04:48:21|2016-08-04 14:52:00|         null|  405|         131|          30|      php|\n",
      "+---+-------------------+-------------------+-------------+-----+------------+------------+---------+\n",
      "only showing top 5 rows\n",
      "\n"
     ]
    }
   ],
   "source": [
    "dfQuestionsSubset.join(dfTags, \"id\").show(5)"
   ]
  },
  {
   "cell_type": "markdown",
   "metadata": {},
   "source": [
    "### DataFrame Query: Join and select columns"
   ]
  },
  {
   "cell_type": "code",
   "execution_count": 37,
   "metadata": {},
   "outputs": [
    {
     "name": "stdout",
     "output_type": "stream",
     "text": [
      "+------------+---------+-------------------+-----+\n",
      "|owner_userid|      tag|      creation_date|score|\n",
      "+------------+---------+-------------------+-----+\n",
      "|         131|      php|2008-08-04 04:48:21|  405|\n",
      "|         131|  eclipse|2008-08-04 04:48:21|  405|\n",
      "|         131|debugging|2008-08-04 04:48:21|  405|\n",
      "|         131| phpstorm|2008-08-04 04:48:21|  405|\n",
      "|         131|   xdebug|2008-08-04 04:48:21|  405|\n",
      "+------------+---------+-------------------+-----+\n",
      "only showing top 5 rows\n",
      "\n"
     ]
    }
   ],
   "source": [
    "dfQuestionsSubset.join(dfTags, \"id\").select(\"owner_userid\", \"tag\", \"creation_date\", \"score\").show(5)"
   ]
  },
  {
   "cell_type": "markdown",
   "metadata": {},
   "source": [
    "### DataFrame Query: Join on explicit columns"
   ]
  },
  {
   "cell_type": "code",
   "execution_count": 38,
   "metadata": {},
   "outputs": [
    {
     "name": "stdout",
     "output_type": "stream",
     "text": [
      "+---+-------------------+-------------------+-------------+-----+------------+------------+---+---------+\n",
      "| id|      creation_date|        closed_date|deletion_date|score|owner_userid|answer_count| Id|      Tag|\n",
      "+---+-------------------+-------------------+-------------+-----+------------+------------+---+---------+\n",
      "|888|2008-08-04 04:48:21|2016-08-04 14:52:00|         null|  405|         131|          30|888|   xdebug|\n",
      "|888|2008-08-04 04:48:21|2016-08-04 14:52:00|         null|  405|         131|          30|888| phpstorm|\n",
      "|888|2008-08-04 04:48:21|2016-08-04 14:52:00|         null|  405|         131|          30|888|debugging|\n",
      "|888|2008-08-04 04:48:21|2016-08-04 14:52:00|         null|  405|         131|          30|888|  eclipse|\n",
      "|888|2008-08-04 04:48:21|2016-08-04 14:52:00|         null|  405|         131|          30|888|      php|\n",
      "+---+-------------------+-------------------+-------------+-----+------------+------------+---+---------+\n",
      "only showing top 5 rows\n",
      "\n"
     ]
    }
   ],
   "source": [
    "dfQuestionsSubset.join(dfTags, dfTags(\"id\") === dfQuestionsSubset(\"id\")).show(5)"
   ]
  },
  {
   "cell_type": "markdown",
   "metadata": {},
   "source": [
    "### DataFrame Query: Inner Join"
   ]
  },
  {
   "cell_type": "code",
   "execution_count": 39,
   "metadata": {},
   "outputs": [
    {
     "name": "stdout",
     "output_type": "stream",
     "text": [
      "+---+-------------------+-------------------+-------------+-----+------------+------------+---------+\n",
      "| id|      creation_date|        closed_date|deletion_date|score|owner_userid|answer_count|      Tag|\n",
      "+---+-------------------+-------------------+-------------+-----+------------+------------+---------+\n",
      "|888|2008-08-04 04:48:21|2016-08-04 14:52:00|         null|  405|         131|          30|   xdebug|\n",
      "|888|2008-08-04 04:48:21|2016-08-04 14:52:00|         null|  405|         131|          30| phpstorm|\n",
      "|888|2008-08-04 04:48:21|2016-08-04 14:52:00|         null|  405|         131|          30|debugging|\n",
      "|888|2008-08-04 04:48:21|2016-08-04 14:52:00|         null|  405|         131|          30|  eclipse|\n",
      "|888|2008-08-04 04:48:21|2016-08-04 14:52:00|         null|  405|         131|          30|      php|\n",
      "+---+-------------------+-------------------+-------------+-----+------------+------------+---------+\n",
      "only showing top 5 rows\n",
      "\n"
     ]
    }
   ],
   "source": [
    "dfQuestionsSubset.join(dfTags, Seq(\"id\"), \"inner\").show(5)"
   ]
  },
  {
   "cell_type": "markdown",
   "metadata": {},
   "source": [
    "### DataFrame Query: Left Outer Join"
   ]
  },
  {
   "cell_type": "code",
   "execution_count": 40,
   "metadata": {},
   "outputs": [
    {
     "name": "stdout",
     "output_type": "stream",
     "text": [
      "+---+-------------------+-------------------+-------------+-----+------------+------------+---------+\n",
      "| id|      creation_date|        closed_date|deletion_date|score|owner_userid|answer_count|      Tag|\n",
      "+---+-------------------+-------------------+-------------+-----+------------+------------+---------+\n",
      "|888|2008-08-04 04:48:21|2016-08-04 14:52:00|         null|  405|         131|          30|   xdebug|\n",
      "|888|2008-08-04 04:48:21|2016-08-04 14:52:00|         null|  405|         131|          30| phpstorm|\n",
      "|888|2008-08-04 04:48:21|2016-08-04 14:52:00|         null|  405|         131|          30|debugging|\n",
      "|888|2008-08-04 04:48:21|2016-08-04 14:52:00|         null|  405|         131|          30|  eclipse|\n",
      "|888|2008-08-04 04:48:21|2016-08-04 14:52:00|         null|  405|         131|          30|      php|\n",
      "+---+-------------------+-------------------+-------------+-----+------------+------------+---------+\n",
      "only showing top 5 rows\n",
      "\n"
     ]
    }
   ],
   "source": [
    "dfQuestionsSubset.join(dfTags, Seq(\"id\"), \"left_outer\").show(5)"
   ]
  },
  {
   "cell_type": "markdown",
   "metadata": {},
   "source": [
    "### DataFrame Query: Right Outer Join"
   ]
  },
  {
   "cell_type": "code",
   "execution_count": 41,
   "metadata": {},
   "outputs": [
    {
     "name": "stdout",
     "output_type": "stream",
     "text": [
      "+---+-------------+-----------+-------------+-----+------------+------------+---------------+\n",
      "| Id|creation_date|closed_date|deletion_date|score|owner_userid|answer_count|            Tag|\n",
      "+---+-------------+-----------+-------------+-----+------------+------------+---------------+\n",
      "|  1|         null|       null|         null| null|        null|        null|           data|\n",
      "|  4|         null|       null|         null| null|        null|        null|             c#|\n",
      "|  4|         null|       null|         null| null|        null|        null|       winforms|\n",
      "|  4|         null|       null|         null| null|        null|        null|type-conversion|\n",
      "|  4|         null|       null|         null| null|        null|        null|        decimal|\n",
      "+---+-------------+-----------+-------------+-----+------------+------------+---------------+\n",
      "only showing top 5 rows\n",
      "\n"
     ]
    }
   ],
   "source": [
    "dfQuestionsSubset.join(dfTags, Seq(\"id\"), \"right_outer\").show(5)"
   ]
  },
  {
   "cell_type": "markdown",
   "metadata": {},
   "source": [
    "### DataFrame Query: Distinct"
   ]
  },
  {
   "cell_type": "code",
   "execution_count": 42,
   "metadata": {},
   "outputs": [
    {
     "name": "stdout",
     "output_type": "stream",
     "text": [
      "+-----------+\n",
      "|        tag|\n",
      "+-----------+\n",
      "|type-safety|\n",
      "|    jbutton|\n",
      "|     iframe|\n",
      "|  svn-hooks|\n",
      "|  standards|\n",
      "+-----------+\n",
      "only showing top 5 rows\n",
      "\n"
     ]
    }
   ],
   "source": [
    "dfTags.select(\"tag\").distinct().show(5)"
   ]
  },
  {
   "cell_type": "markdown",
   "metadata": {},
   "source": [
    "### Closing Spark Session"
   ]
  },
  {
   "cell_type": "code",
   "execution_count": 43,
   "metadata": {},
   "outputs": [],
   "source": [
    "spark.stop()"
   ]
  }
 ],
 "metadata": {
  "kernelspec": {
   "display_name": "spylon-kernel",
   "language": "scala",
   "name": "spylon-kernel"
  },
  "language_info": {
   "codemirror_mode": "text/x-scala",
   "file_extension": ".scala",
   "help_links": [
    {
     "text": "MetaKernel Magics",
     "url": "https://metakernel.readthedocs.io/en/latest/source/README.html"
    }
   ],
   "mimetype": "text/x-scala",
   "name": "scala",
   "pygments_lexer": "scala",
   "version": "0.4.1"
  }
 },
 "nbformat": 4,
 "nbformat_minor": 2
}
